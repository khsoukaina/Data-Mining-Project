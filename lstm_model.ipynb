{
 "cells": [
  {
   "cell_type": "code",
   "execution_count": 1,
   "metadata": {},
   "outputs": [
    {
     "name": "stderr",
     "output_type": "stream",
     "text": [
      "2025-01-28 14:57:50.018948: I external/local_xla/xla/tsl/cuda/cudart_stub.cc:32] Could not find cuda drivers on your machine, GPU will not be used.\n",
      "2025-01-28 14:57:50.119361: I external/local_xla/xla/tsl/cuda/cudart_stub.cc:32] Could not find cuda drivers on your machine, GPU will not be used.\n",
      "2025-01-28 14:57:50.239050: E external/local_xla/xla/stream_executor/cuda/cuda_fft.cc:477] Unable to register cuFFT factory: Attempting to register factory for plugin cuFFT when one has already been registered\n",
      "WARNING: All log messages before absl::InitializeLog() is called are written to STDERR\n",
      "E0000 00:00:1738072670.343472    5694 cuda_dnn.cc:8310] Unable to register cuDNN factory: Attempting to register factory for plugin cuDNN when one has already been registered\n",
      "E0000 00:00:1738072670.384742    5694 cuda_blas.cc:1418] Unable to register cuBLAS factory: Attempting to register factory for plugin cuBLAS when one has already been registered\n",
      "2025-01-28 14:57:50.687241: I tensorflow/core/platform/cpu_feature_guard.cc:210] This TensorFlow binary is optimized to use available CPU instructions in performance-critical operations.\n",
      "To enable the following instructions: AVX2 FMA, in other operations, rebuild TensorFlow with the appropriate compiler flags.\n"
     ]
    }
   ],
   "source": [
    "import pandas as pd\n",
    "import xgboost as xgb\n",
    "from sklearn.model_selection import train_test_split\n",
    "from sklearn.preprocessing import StandardScaler\n",
    "from sklearn.metrics import precision_score, accuracy_score, f1_score, recall_score, confusion_matrix, roc_curve, auc\n",
    "from sklearn.metrics import classification_report\n",
    "import tensorflow as tf\n",
    "from tensorflow.keras.models import Sequential\n",
    "from tensorflow.keras.layers import LSTM, Dense, Dropout, BatchNormalization, Bidirectional\n",
    "from tensorflow.keras.optimizers import Adam\n",
    "from tensorflow.keras.callbacks import EarlyStopping, ReduceLROnPlateau\n"
   ]
  },
  {
   "cell_type": "code",
   "execution_count": 2,
   "metadata": {},
   "outputs": [
    {
     "data": {
      "text/plain": [
       "(257673, 45)"
      ]
     },
     "execution_count": 2,
     "metadata": {},
     "output_type": "execute_result"
    }
   ],
   "source": [
    "df = pd.read_csv('UNSW_NB15_training-set.csv')\n",
    "pf = pd.read_csv('UNSW_NB15_testing-set.csv')\n",
    "data = pd.concat([df, pf], ignore_index=True)\n",
    "data.shape"
   ]
  },
  {
   "cell_type": "code",
   "execution_count": 3,
   "metadata": {},
   "outputs": [
    {
     "name": "stdout",
     "output_type": "stream",
     "text": [
      "0\n"
     ]
    }
   ],
   "source": [
    "print(data.duplicated().sum())"
   ]
  },
  {
   "cell_type": "code",
   "execution_count": 4,
   "metadata": {},
   "outputs": [
    {
     "data": {
      "text/plain": [
       "(257673, 43)"
      ]
     },
     "execution_count": 4,
     "metadata": {},
     "output_type": "execute_result"
    }
   ],
   "source": [
    "data = data.drop(columns=['id', 'attack_cat'])\n",
    "data.shape"
   ]
  },
  {
   "cell_type": "code",
   "execution_count": 5,
   "metadata": {},
   "outputs": [
    {
     "data": {
      "text/plain": [
       "dur                  float64\n",
       "proto                 object\n",
       "service               object\n",
       "state                 object\n",
       "spkts                  int64\n",
       "dpkts                  int64\n",
       "sbytes                 int64\n",
       "dbytes                 int64\n",
       "rate                 float64\n",
       "sttl                   int64\n",
       "dttl                   int64\n",
       "sload                float64\n",
       "dload                float64\n",
       "sloss                  int64\n",
       "dloss                  int64\n",
       "sinpkt               float64\n",
       "dinpkt               float64\n",
       "sjit                 float64\n",
       "djit                 float64\n",
       "swin                   int64\n",
       "stcpb                  int64\n",
       "dtcpb                  int64\n",
       "dwin                   int64\n",
       "tcprtt               float64\n",
       "synack               float64\n",
       "ackdat               float64\n",
       "smean                  int64\n",
       "dmean                  int64\n",
       "trans_depth            int64\n",
       "response_body_len      int64\n",
       "ct_srv_src             int64\n",
       "ct_state_ttl           int64\n",
       "ct_dst_ltm             int64\n",
       "ct_src_dport_ltm       int64\n",
       "ct_dst_sport_ltm       int64\n",
       "ct_dst_src_ltm         int64\n",
       "is_ftp_login           int64\n",
       "ct_ftp_cmd             int64\n",
       "ct_flw_http_mthd       int64\n",
       "ct_src_ltm             int64\n",
       "ct_srv_dst             int64\n",
       "is_sm_ips_ports        int64\n",
       "label                  int64\n",
       "dtype: object"
      ]
     },
     "execution_count": 5,
     "metadata": {},
     "output_type": "execute_result"
    }
   ],
   "source": [
    "data.dtypes"
   ]
  },
  {
   "cell_type": "code",
   "execution_count": 6,
   "metadata": {},
   "outputs": [
    {
     "data": {
      "text/plain": [
       "dur                  float64\n",
       "proto                  int16\n",
       "service                 int8\n",
       "state                   int8\n",
       "spkts                  int64\n",
       "dpkts                  int64\n",
       "sbytes                 int64\n",
       "dbytes                 int64\n",
       "rate                 float64\n",
       "sttl                   int64\n",
       "dttl                   int64\n",
       "sload                float64\n",
       "dload                float64\n",
       "sloss                  int64\n",
       "dloss                  int64\n",
       "sinpkt               float64\n",
       "dinpkt               float64\n",
       "sjit                 float64\n",
       "djit                 float64\n",
       "swin                   int64\n",
       "stcpb                  int64\n",
       "dtcpb                  int64\n",
       "dwin                   int64\n",
       "tcprtt               float64\n",
       "synack               float64\n",
       "ackdat               float64\n",
       "smean                  int64\n",
       "dmean                  int64\n",
       "trans_depth            int64\n",
       "response_body_len      int64\n",
       "ct_srv_src             int64\n",
       "ct_state_ttl           int64\n",
       "ct_dst_ltm             int64\n",
       "ct_src_dport_ltm       int64\n",
       "ct_dst_sport_ltm       int64\n",
       "ct_dst_src_ltm         int64\n",
       "is_ftp_login           int64\n",
       "ct_ftp_cmd             int64\n",
       "ct_flw_http_mthd       int64\n",
       "ct_src_ltm             int64\n",
       "ct_srv_dst             int64\n",
       "is_sm_ips_ports        int64\n",
       "label                  int64\n",
       "dtype: object"
      ]
     },
     "execution_count": 6,
     "metadata": {},
     "output_type": "execute_result"
    }
   ],
   "source": [
    "for column in data.select_dtypes(include=['object']).columns:\n",
    "    data[column] = data[column].astype('category').cat.codes\n",
    "data.dtypes"
   ]
  },
  {
   "cell_type": "code",
   "execution_count": 7,
   "metadata": {},
   "outputs": [],
   "source": [
    "X = data.drop('label', axis=1)\n",
    "y = data['label']"
   ]
  },
  {
   "cell_type": "code",
   "execution_count": 8,
   "metadata": {},
   "outputs": [
    {
     "name": "stdout",
     "output_type": "stream",
     "text": [
      "sttl: 0.6356412768363953\n",
      "swin: 0.06787912547588348\n",
      "ct_dst_sport_ltm: 0.0481630377471447\n",
      "ct_srv_dst: 0.030083660036325455\n",
      "synack: 0.023628855124115944\n",
      "proto: 0.019564582034945488\n",
      "ct_state_ttl: 0.018916940316557884\n",
      "smean: 0.017699867486953735\n",
      "ct_dst_src_ltm: 0.01635816879570484\n",
      "dbytes: 0.014596457593142986\n",
      "tcprtt: 0.012829628773033619\n",
      "state: 0.010761458426713943\n",
      "service: 0.01050951424986124\n",
      "response_body_len: 0.00725649343803525\n",
      "sbytes: 0.006137150339782238\n",
      "spkts: 0.0057584927417337894\n",
      "dmean: 0.005741302855312824\n",
      "sloss: 0.004937499761581421\n",
      "ct_srv_src: 0.0043327221646904945\n",
      "trans_depth: 0.003906861878931522\n",
      "dpkts: 0.003557806368917227\n",
      "dloss: 0.003450394608080387\n",
      "sinpkt: 0.0031226284336298704\n",
      "dinpkt: 0.0027801645919680595\n",
      "rate: 0.0021440349519252777\n",
      "ct_src_dport_ltm: 0.002125529572367668\n",
      "dur: 0.002106718486174941\n",
      "ct_ftp_cmd: 0.0018871442880481482\n",
      "dload: 0.0018047703197225928\n",
      "dttl: 0.0016385064227506518\n",
      "ct_flw_http_mthd: 0.0016147280111908913\n",
      "sload: 0.0013312811497598886\n",
      "djit: 0.0013073942391201854\n",
      "is_ftp_login: 0.0011718558380380273\n",
      "ct_src_ltm: 0.0009473652462475002\n",
      "ct_dst_ltm: 0.0009317108779214323\n",
      "sjit: 0.000930379843339324\n",
      "ackdat: 0.0008230998646467924\n",
      "dtcpb: 0.000810960540547967\n",
      "stcpb: 0.0008105161250568926\n",
      "dwin: 0.0\n",
      "is_sm_ips_ports: 0.0\n"
     ]
    }
   ],
   "source": [
    "model = xgb.XGBClassifier()\n",
    "model.fit(X, y)\n",
    "\n",
    "importance = model.feature_importances_\n",
    "feature_names = X.columns\n",
    "\n",
    "feature_importance = sorted(zip(feature_names, importance), key=lambda x: x[1], reverse=True)\n",
    "\n",
    "best_features = [name for name, _ in feature_importance[:10]]\n",
    "# Print the sorted features and their scores\n",
    "for name, score in feature_importance:\n",
    "    print(f\"{name}: {score}\")\n",
    "\n",
    "\n"
   ]
  },
  {
   "cell_type": "code",
   "execution_count": 9,
   "metadata": {},
   "outputs": [
    {
     "name": "stdout",
     "output_type": "stream",
     "text": [
      "(206138, 10) (51535, 10) (206138,) (51535,)\n"
     ]
    }
   ],
   "source": [
    "X_features = X[best_features]\n",
    "\n",
    "X_train, X_test, y_train, y_test = train_test_split(X_features, y, test_size=0.2, random_state=42)\n",
    "print(X_train.shape, X_test.shape, y_train.shape, y_test.shape)"
   ]
  },
  {
   "cell_type": "code",
   "execution_count": 10,
   "metadata": {},
   "outputs": [],
   "source": [
    "scaler = StandardScaler()\n",
    "X_train_scaled = scaler.fit_transform(X_train)\n",
    "X_test_scaled = scaler.transform(X_test)\n",
    "\n",
    "X_train_scaled = X_train_scaled.reshape(X_train_scaled.shape[0], 1, X_train_scaled.shape[1])\n",
    "X_test_scaled = X_test_scaled.reshape(X_test_scaled.shape[0], 1, X_test_scaled.shape[1])"
   ]
  },
  {
   "cell_type": "code",
   "execution_count": 11,
   "metadata": {},
   "outputs": [
    {
     "name": "stdout",
     "output_type": "stream",
     "text": [
      "Epoch 1/50\n"
     ]
    },
    {
     "name": "stderr",
     "output_type": "stream",
     "text": [
      "2025-01-28 14:57:59.643266: E external/local_xla/xla/stream_executor/cuda/cuda_driver.cc:152] failed call to cuInit: INTERNAL: CUDA error: Failed call to cuInit: UNKNOWN ERROR (303)\n",
      "/home/kali/projet_libre_code/.venv/lib/python3.10/site-packages/keras/src/layers/rnn/rnn.py:200: UserWarning: Do not pass an `input_shape`/`input_dim` argument to a layer. When using Sequential models, prefer using an `Input(shape)` object as the first layer in the model instead.\n",
      "  super().__init__(**kwargs)\n"
     ]
    },
    {
     "name": "stdout",
     "output_type": "stream",
     "text": [
      "\u001b[1m3221/3221\u001b[0m \u001b[32m━━━━━━━━━━━━━━━━━━━━\u001b[0m\u001b[37m\u001b[0m \u001b[1m33s\u001b[0m 8ms/step - accuracy: 0.8923 - loss: 0.2325 - val_accuracy: 0.9190 - val_loss: 0.1633 - learning_rate: 0.0010\n",
      "Epoch 2/50\n",
      "\u001b[1m3221/3221\u001b[0m \u001b[32m━━━━━━━━━━━━━━━━━━━━\u001b[0m\u001b[37m\u001b[0m \u001b[1m26s\u001b[0m 8ms/step - accuracy: 0.9138 - loss: 0.1765 - val_accuracy: 0.9227 - val_loss: 0.1537 - learning_rate: 0.0010\n",
      "Epoch 3/50\n",
      "\u001b[1m3221/3221\u001b[0m \u001b[32m━━━━━━━━━━━━━━━━━━━━\u001b[0m\u001b[37m\u001b[0m \u001b[1m27s\u001b[0m 8ms/step - accuracy: 0.9174 - loss: 0.1670 - val_accuracy: 0.9232 - val_loss: 0.1539 - learning_rate: 0.0010\n",
      "Epoch 4/50\n",
      "\u001b[1m3221/3221\u001b[0m \u001b[32m━━━━━━━━━━━━━━━━━━━━\u001b[0m\u001b[37m\u001b[0m \u001b[1m27s\u001b[0m 8ms/step - accuracy: 0.9193 - loss: 0.1629 - val_accuracy: 0.9280 - val_loss: 0.1472 - learning_rate: 0.0010\n",
      "Epoch 5/50\n",
      "\u001b[1m3221/3221\u001b[0m \u001b[32m━━━━━━━━━━━━━━━━━━━━\u001b[0m\u001b[37m\u001b[0m \u001b[1m26s\u001b[0m 8ms/step - accuracy: 0.9207 - loss: 0.1602 - val_accuracy: 0.9266 - val_loss: 0.1480 - learning_rate: 0.0010\n",
      "Epoch 6/50\n",
      "\u001b[1m3221/3221\u001b[0m \u001b[32m━━━━━━━━━━━━━━━━━━━━\u001b[0m\u001b[37m\u001b[0m \u001b[1m26s\u001b[0m 8ms/step - accuracy: 0.9228 - loss: 0.1577 - val_accuracy: 0.9288 - val_loss: 0.1446 - learning_rate: 0.0010\n",
      "Epoch 7/50\n",
      "\u001b[1m3221/3221\u001b[0m \u001b[32m━━━━━━━━━━━━━━━━━━━━\u001b[0m\u001b[37m\u001b[0m \u001b[1m25s\u001b[0m 8ms/step - accuracy: 0.9219 - loss: 0.1568 - val_accuracy: 0.9288 - val_loss: 0.1441 - learning_rate: 0.0010\n",
      "Epoch 8/50\n",
      "\u001b[1m3221/3221\u001b[0m \u001b[32m━━━━━━━━━━━━━━━━━━━━\u001b[0m\u001b[37m\u001b[0m \u001b[1m26s\u001b[0m 8ms/step - accuracy: 0.9223 - loss: 0.1558 - val_accuracy: 0.9287 - val_loss: 0.1437 - learning_rate: 0.0010\n",
      "Epoch 9/50\n",
      "\u001b[1m3221/3221\u001b[0m \u001b[32m━━━━━━━━━━━━━━━━━━━━\u001b[0m\u001b[37m\u001b[0m \u001b[1m28s\u001b[0m 9ms/step - accuracy: 0.9235 - loss: 0.1546 - val_accuracy: 0.9297 - val_loss: 0.1444 - learning_rate: 0.0010\n",
      "Epoch 10/50\n",
      "\u001b[1m3221/3221\u001b[0m \u001b[32m━━━━━━━━━━━━━━━━━━━━\u001b[0m\u001b[37m\u001b[0m \u001b[1m26s\u001b[0m 8ms/step - accuracy: 0.9242 - loss: 0.1538 - val_accuracy: 0.9308 - val_loss: 0.1420 - learning_rate: 0.0010\n",
      "Epoch 11/50\n",
      "\u001b[1m3221/3221\u001b[0m \u001b[32m━━━━━━━━━━━━━━━━━━━━\u001b[0m\u001b[37m\u001b[0m \u001b[1m25s\u001b[0m 8ms/step - accuracy: 0.9262 - loss: 0.1527 - val_accuracy: 0.9298 - val_loss: 0.1427 - learning_rate: 0.0010\n",
      "Epoch 12/50\n",
      "\u001b[1m3221/3221\u001b[0m \u001b[32m━━━━━━━━━━━━━━━━━━━━\u001b[0m\u001b[37m\u001b[0m \u001b[1m26s\u001b[0m 8ms/step - accuracy: 0.9255 - loss: 0.1526 - val_accuracy: 0.9311 - val_loss: 0.1417 - learning_rate: 0.0010\n",
      "Epoch 13/50\n",
      "\u001b[1m3221/3221\u001b[0m \u001b[32m━━━━━━━━━━━━━━━━━━━━\u001b[0m\u001b[37m\u001b[0m \u001b[1m37s\u001b[0m 11ms/step - accuracy: 0.9242 - loss: 0.1528 - val_accuracy: 0.9305 - val_loss: 0.1413 - learning_rate: 0.0010\n",
      "Epoch 14/50\n",
      "\u001b[1m3221/3221\u001b[0m \u001b[32m━━━━━━━━━━━━━━━━━━━━\u001b[0m\u001b[37m\u001b[0m \u001b[1m30s\u001b[0m 9ms/step - accuracy: 0.9250 - loss: 0.1516 - val_accuracy: 0.9296 - val_loss: 0.1428 - learning_rate: 0.0010\n",
      "Epoch 15/50\n",
      "\u001b[1m3221/3221\u001b[0m \u001b[32m━━━━━━━━━━━━━━━━━━━━\u001b[0m\u001b[37m\u001b[0m \u001b[1m33s\u001b[0m 10ms/step - accuracy: 0.9264 - loss: 0.1506 - val_accuracy: 0.9296 - val_loss: 0.1417 - learning_rate: 0.0010\n",
      "Epoch 16/50\n",
      "\u001b[1m3221/3221\u001b[0m \u001b[32m━━━━━━━━━━━━━━━━━━━━\u001b[0m\u001b[37m\u001b[0m \u001b[1m36s\u001b[0m 11ms/step - accuracy: 0.9265 - loss: 0.1508 - val_accuracy: 0.9308 - val_loss: 0.1428 - learning_rate: 0.0010\n",
      "Epoch 17/50\n",
      "\u001b[1m3221/3221\u001b[0m \u001b[32m━━━━━━━━━━━━━━━━━━━━\u001b[0m\u001b[37m\u001b[0m \u001b[1m26s\u001b[0m 8ms/step - accuracy: 0.9274 - loss: 0.1482 - val_accuracy: 0.9316 - val_loss: 0.1398 - learning_rate: 5.0000e-04\n",
      "Epoch 18/50\n",
      "\u001b[1m3221/3221\u001b[0m \u001b[32m━━━━━━━━━━━━━━━━━━━━\u001b[0m\u001b[37m\u001b[0m \u001b[1m37s\u001b[0m 11ms/step - accuracy: 0.9264 - loss: 0.1490 - val_accuracy: 0.9321 - val_loss: 0.1394 - learning_rate: 5.0000e-04\n",
      "Epoch 19/50\n",
      "\u001b[1m3221/3221\u001b[0m \u001b[32m━━━━━━━━━━━━━━━━━━━━\u001b[0m\u001b[37m\u001b[0m \u001b[1m25s\u001b[0m 8ms/step - accuracy: 0.9270 - loss: 0.1473 - val_accuracy: 0.9317 - val_loss: 0.1400 - learning_rate: 5.0000e-04\n",
      "Epoch 20/50\n",
      "\u001b[1m3221/3221\u001b[0m \u001b[32m━━━━━━━━━━━━━━━━━━━━\u001b[0m\u001b[37m\u001b[0m \u001b[1m37s\u001b[0m 11ms/step - accuracy: 0.9278 - loss: 0.1466 - val_accuracy: 0.9321 - val_loss: 0.1385 - learning_rate: 5.0000e-04\n",
      "Epoch 21/50\n",
      "\u001b[1m3221/3221\u001b[0m \u001b[32m━━━━━━━━━━━━━━━━━━━━\u001b[0m\u001b[37m\u001b[0m \u001b[1m36s\u001b[0m 11ms/step - accuracy: 0.9271 - loss: 0.1473 - val_accuracy: 0.9315 - val_loss: 0.1387 - learning_rate: 5.0000e-04\n",
      "Epoch 22/50\n",
      "\u001b[1m3221/3221\u001b[0m \u001b[32m━━━━━━━━━━━━━━━━━━━━\u001b[0m\u001b[37m\u001b[0m \u001b[1m27s\u001b[0m 8ms/step - accuracy: 0.9279 - loss: 0.1463 - val_accuracy: 0.9316 - val_loss: 0.1384 - learning_rate: 5.0000e-04\n",
      "Epoch 23/50\n",
      "\u001b[1m3221/3221\u001b[0m \u001b[32m━━━━━━━━━━━━━━━━━━━━\u001b[0m\u001b[37m\u001b[0m \u001b[1m26s\u001b[0m 8ms/step - accuracy: 0.9275 - loss: 0.1477 - val_accuracy: 0.9312 - val_loss: 0.1388 - learning_rate: 5.0000e-04\n",
      "Epoch 24/50\n",
      "\u001b[1m3221/3221\u001b[0m \u001b[32m━━━━━━━━━━━━━━━━━━━━\u001b[0m\u001b[37m\u001b[0m \u001b[1m38s\u001b[0m 12ms/step - accuracy: 0.9277 - loss: 0.1460 - val_accuracy: 0.9319 - val_loss: 0.1383 - learning_rate: 5.0000e-04\n",
      "Epoch 25/50\n",
      "\u001b[1m3221/3221\u001b[0m \u001b[32m━━━━━━━━━━━━━━━━━━━━\u001b[0m\u001b[37m\u001b[0m \u001b[1m36s\u001b[0m 11ms/step - accuracy: 0.9262 - loss: 0.1484 - val_accuracy: 0.9327 - val_loss: 0.1384 - learning_rate: 5.0000e-04\n",
      "Epoch 26/50\n",
      "\u001b[1m3221/3221\u001b[0m \u001b[32m━━━━━━━━━━━━━━━━━━━━\u001b[0m\u001b[37m\u001b[0m \u001b[1m25s\u001b[0m 8ms/step - accuracy: 0.9285 - loss: 0.1450 - val_accuracy: 0.9319 - val_loss: 0.1372 - learning_rate: 2.5000e-04\n",
      "Epoch 27/50\n",
      "\u001b[1m3221/3221\u001b[0m \u001b[32m━━━━━━━━━━━━━━━━━━━━\u001b[0m\u001b[37m\u001b[0m \u001b[1m19s\u001b[0m 6ms/step - accuracy: 0.9289 - loss: 0.1447 - val_accuracy: 0.9321 - val_loss: 0.1376 - learning_rate: 2.5000e-04\n",
      "Epoch 28/50\n",
      "\u001b[1m3221/3221\u001b[0m \u001b[32m━━━━━━━━━━━━━━━━━━━━\u001b[0m\u001b[37m\u001b[0m \u001b[1m32s\u001b[0m 10ms/step - accuracy: 0.9294 - loss: 0.1443 - val_accuracy: 0.9315 - val_loss: 0.1371 - learning_rate: 2.5000e-04\n",
      "Epoch 29/50\n",
      "\u001b[1m3221/3221\u001b[0m \u001b[32m━━━━━━━━━━━━━━━━━━━━\u001b[0m\u001b[37m\u001b[0m \u001b[1m38s\u001b[0m 12ms/step - accuracy: 0.9273 - loss: 0.1461 - val_accuracy: 0.9323 - val_loss: 0.1373 - learning_rate: 2.5000e-04\n",
      "Epoch 30/50\n",
      "\u001b[1m3221/3221\u001b[0m \u001b[32m━━━━━━━━━━━━━━━━━━━━\u001b[0m\u001b[37m\u001b[0m \u001b[1m38s\u001b[0m 12ms/step - accuracy: 0.9293 - loss: 0.1434 - val_accuracy: 0.9322 - val_loss: 0.1369 - learning_rate: 2.5000e-04\n",
      "Epoch 31/50\n",
      "\u001b[1m3221/3221\u001b[0m \u001b[32m━━━━━━━━━━━━━━━━━━━━\u001b[0m\u001b[37m\u001b[0m \u001b[1m25s\u001b[0m 8ms/step - accuracy: 0.9288 - loss: 0.1450 - val_accuracy: 0.9325 - val_loss: 0.1371 - learning_rate: 2.5000e-04\n",
      "Epoch 32/50\n",
      "\u001b[1m3221/3221\u001b[0m \u001b[32m━━━━━━━━━━━━━━━━━━━━\u001b[0m\u001b[37m\u001b[0m \u001b[1m25s\u001b[0m 8ms/step - accuracy: 0.9291 - loss: 0.1441 - val_accuracy: 0.9332 - val_loss: 0.1364 - learning_rate: 2.5000e-04\n",
      "Epoch 33/50\n",
      "\u001b[1m3221/3221\u001b[0m \u001b[32m━━━━━━━━━━━━━━━━━━━━\u001b[0m\u001b[37m\u001b[0m \u001b[1m24s\u001b[0m 8ms/step - accuracy: 0.9282 - loss: 0.1442 - val_accuracy: 0.9322 - val_loss: 0.1361 - learning_rate: 2.5000e-04\n",
      "Epoch 34/50\n",
      "\u001b[1m3221/3221\u001b[0m \u001b[32m━━━━━━━━━━━━━━━━━━━━\u001b[0m\u001b[37m\u001b[0m \u001b[1m26s\u001b[0m 8ms/step - accuracy: 0.9291 - loss: 0.1438 - val_accuracy: 0.9322 - val_loss: 0.1368 - learning_rate: 2.5000e-04\n",
      "Epoch 35/50\n",
      "\u001b[1m3221/3221\u001b[0m \u001b[32m━━━━━━━━━━━━━━━━━━━━\u001b[0m\u001b[37m\u001b[0m \u001b[1m27s\u001b[0m 8ms/step - accuracy: 0.9282 - loss: 0.1440 - val_accuracy: 0.9321 - val_loss: 0.1366 - learning_rate: 2.5000e-04\n",
      "Epoch 36/50\n",
      "\u001b[1m3221/3221\u001b[0m \u001b[32m━━━━━━━━━━━━━━━━━━━━\u001b[0m\u001b[37m\u001b[0m \u001b[1m26s\u001b[0m 8ms/step - accuracy: 0.9281 - loss: 0.1451 - val_accuracy: 0.9320 - val_loss: 0.1367 - learning_rate: 2.5000e-04\n",
      "Epoch 37/50\n",
      "\u001b[1m3221/3221\u001b[0m \u001b[32m━━━━━━━━━━━━━━━━━━━━\u001b[0m\u001b[37m\u001b[0m \u001b[1m26s\u001b[0m 8ms/step - accuracy: 0.9288 - loss: 0.1431 - val_accuracy: 0.9324 - val_loss: 0.1359 - learning_rate: 1.2500e-04\n",
      "Epoch 38/50\n",
      "\u001b[1m3221/3221\u001b[0m \u001b[32m━━━━━━━━━━━━━━━━━━━━\u001b[0m\u001b[37m\u001b[0m \u001b[1m26s\u001b[0m 8ms/step - accuracy: 0.9295 - loss: 0.1423 - val_accuracy: 0.9319 - val_loss: 0.1358 - learning_rate: 1.2500e-04\n",
      "Epoch 39/50\n",
      "\u001b[1m3221/3221\u001b[0m \u001b[32m━━━━━━━━━━━━━━━━━━━━\u001b[0m\u001b[37m\u001b[0m \u001b[1m25s\u001b[0m 8ms/step - accuracy: 0.9284 - loss: 0.1435 - val_accuracy: 0.9324 - val_loss: 0.1359 - learning_rate: 1.2500e-04\n",
      "Epoch 40/50\n",
      "\u001b[1m3221/3221\u001b[0m \u001b[32m━━━━━━━━━━━━━━━━━━━━\u001b[0m\u001b[37m\u001b[0m \u001b[1m27s\u001b[0m 8ms/step - accuracy: 0.9294 - loss: 0.1432 - val_accuracy: 0.9326 - val_loss: 0.1358 - learning_rate: 1.2500e-04\n",
      "Epoch 41/50\n",
      "\u001b[1m3221/3221\u001b[0m \u001b[32m━━━━━━━━━━━━━━━━━━━━\u001b[0m\u001b[37m\u001b[0m \u001b[1m26s\u001b[0m 8ms/step - accuracy: 0.9287 - loss: 0.1436 - val_accuracy: 0.9324 - val_loss: 0.1360 - learning_rate: 1.2500e-04\n",
      "Epoch 42/50\n",
      "\u001b[1m3221/3221\u001b[0m \u001b[32m━━━━━━━━━━━━━━━━━━━━\u001b[0m\u001b[37m\u001b[0m \u001b[1m25s\u001b[0m 8ms/step - accuracy: 0.9297 - loss: 0.1418 - val_accuracy: 0.9327 - val_loss: 0.1355 - learning_rate: 6.2500e-05\n",
      "Epoch 43/50\n",
      "\u001b[1m3221/3221\u001b[0m \u001b[32m━━━━━━━━━━━━━━━━━━━━\u001b[0m\u001b[37m\u001b[0m \u001b[1m26s\u001b[0m 8ms/step - accuracy: 0.9306 - loss: 0.1409 - val_accuracy: 0.9325 - val_loss: 0.1354 - learning_rate: 6.2500e-05\n",
      "Epoch 44/50\n",
      "\u001b[1m3221/3221\u001b[0m \u001b[32m━━━━━━━━━━━━━━━━━━━━\u001b[0m\u001b[37m\u001b[0m \u001b[1m26s\u001b[0m 8ms/step - accuracy: 0.9285 - loss: 0.1423 - val_accuracy: 0.9323 - val_loss: 0.1355 - learning_rate: 6.2500e-05\n",
      "Epoch 45/50\n",
      "\u001b[1m3221/3221\u001b[0m \u001b[32m━━━━━━━━━━━━━━━━━━━━\u001b[0m\u001b[37m\u001b[0m \u001b[1m26s\u001b[0m 8ms/step - accuracy: 0.9305 - loss: 0.1424 - val_accuracy: 0.9324 - val_loss: 0.1354 - learning_rate: 6.2500e-05\n",
      "Epoch 46/50\n",
      "\u001b[1m3221/3221\u001b[0m \u001b[32m━━━━━━━━━━━━━━━━━━━━\u001b[0m\u001b[37m\u001b[0m \u001b[1m26s\u001b[0m 8ms/step - accuracy: 0.9291 - loss: 0.1425 - val_accuracy: 0.9327 - val_loss: 0.1353 - learning_rate: 3.1250e-05\n",
      "Epoch 47/50\n",
      "\u001b[1m3221/3221\u001b[0m \u001b[32m━━━━━━━━━━━━━━━━━━━━\u001b[0m\u001b[37m\u001b[0m \u001b[1m26s\u001b[0m 8ms/step - accuracy: 0.9295 - loss: 0.1417 - val_accuracy: 0.9329 - val_loss: 0.1353 - learning_rate: 3.1250e-05\n",
      "Epoch 48/50\n",
      "\u001b[1m3221/3221\u001b[0m \u001b[32m━━━━━━━━━━━━━━━━━━━━\u001b[0m\u001b[37m\u001b[0m \u001b[1m26s\u001b[0m 8ms/step - accuracy: 0.9292 - loss: 0.1423 - val_accuracy: 0.9326 - val_loss: 0.1353 - learning_rate: 3.1250e-05\n",
      "Epoch 49/50\n",
      "\u001b[1m3221/3221\u001b[0m \u001b[32m━━━━━━━━━━━━━━━━━━━━\u001b[0m\u001b[37m\u001b[0m \u001b[1m26s\u001b[0m 8ms/step - accuracy: 0.9300 - loss: 0.1412 - val_accuracy: 0.9326 - val_loss: 0.1353 - learning_rate: 3.1250e-05\n",
      "Epoch 50/50\n",
      "\u001b[1m3221/3221\u001b[0m \u001b[32m━━━━━━━━━━━━━━━━━━━━\u001b[0m\u001b[37m\u001b[0m \u001b[1m25s\u001b[0m 8ms/step - accuracy: 0.9278 - loss: 0.1436 - val_accuracy: 0.9328 - val_loss: 0.1352 - learning_rate: 1.5625e-05\n"
     ]
    }
   ],
   "source": [
    "# Build the model\n",
    "model = Sequential()\n",
    "\n",
    "# First LSTM layer with dropout and batch normalization\n",
    "model.add(Bidirectional(LSTM(units=64, return_sequences=True, input_shape=(X_train_scaled.shape[1], X_train_scaled.shape[2]))))\n",
    "model.add(Dropout(0.3))\n",
    "model.add(BatchNormalization())\n",
    "\n",
    "# Second LSTM layer\n",
    "model.add(Bidirectional(LSTM(units=32, return_sequences=False)))\n",
    "model.add(Dropout(0.3))\n",
    "model.add(BatchNormalization())\n",
    "\n",
    "# Output layer\n",
    "model.add(Dense(units=1, activation='sigmoid'))\n",
    "\n",
    "# Compile the model\n",
    "optimizer = Adam(learning_rate=0.001)\n",
    "model.compile(optimizer=optimizer, loss='binary_crossentropy', metrics=['accuracy'])\n",
    "\n",
    "# Callbacks for early stopping and learning rate reduction\n",
    "early_stopping = EarlyStopping(monitor='val_loss', patience=5, restore_best_weights=True)\n",
    "lr_scheduler = ReduceLROnPlateau(monitor='val_loss', factor=0.5, patience=3, min_lr=1e-6)\n",
    "\n",
    "# Train the model\n",
    "history = model.fit(\n",
    "    X_train_scaled, y_train,\n",
    "    epochs=50, \n",
    "    batch_size=64,\n",
    "    validation_data=(X_test_scaled, y_test),\n",
    "    callbacks=[early_stopping, lr_scheduler]\n",
    ")\n"
   ]
  },
  {
   "cell_type": "code",
   "execution_count": 12,
   "metadata": {},
   "outputs": [
    {
     "name": "stdout",
     "output_type": "stream",
     "text": [
      "\u001b[1m1611/1611\u001b[0m \u001b[32m━━━━━━━━━━━━━━━━━━━━\u001b[0m\u001b[37m\u001b[0m \u001b[1m4s\u001b[0m 2ms/step\n",
      "Accuracy: 0.9327641408751334\n",
      "Precision: 0.9483268767348931\n",
      "F1 Score: 0.9472144783145194\n",
      "Recall: 0.9461046865489957\n",
      "Confusion Matrix:\n",
      "[[16981  1694]\n",
      " [ 1771 31089]]\n",
      "\u001b[1m1611/1611\u001b[0m \u001b[32m━━━━━━━━━━━━━━━━━━━━\u001b[0m\u001b[37m\u001b[0m \u001b[1m3s\u001b[0m 2ms/step\n",
      "TPR: [0.         0.00112599 0.00748631 ... 1.         1.         1.        ]\n",
      "FPR: [0.         0.         0.         ... 0.99946452 0.99983936 1.        ]\n",
      "AUC: 0.9868039608219853\n",
      "Classification Report:\n",
      "              precision    recall  f1-score   support\n",
      "\n",
      "           0       0.91      0.91      0.91     18675\n",
      "           1       0.95      0.95      0.95     32860\n",
      "\n",
      "    accuracy                           0.93     51535\n",
      "   macro avg       0.93      0.93      0.93     51535\n",
      "weighted avg       0.93      0.93      0.93     51535\n",
      "\n"
     ]
    }
   ],
   "source": [
    "# Make predictions\n",
    "y_pred = (model.predict(X_test_scaled) > 0.5).astype(int)\n",
    "\n",
    "# Evaluate the model using the requested metrics\n",
    "\n",
    "# Accuracy\n",
    "accuracy = accuracy_score(y_test, y_pred)\n",
    "print(f'Accuracy: {accuracy}')\n",
    "\n",
    "# Precision\n",
    "precision = precision_score(y_test, y_pred)\n",
    "print(f'Precision: {precision}')\n",
    "\n",
    "# F1 Score\n",
    "f1 = f1_score(y_test, y_pred)\n",
    "print(f'F1 Score: {f1}')\n",
    "\n",
    "# Recall\n",
    "recall = recall_score(y_test, y_pred)\n",
    "print(f'Recall: {recall}')\n",
    "\n",
    "# Confusion Matrix\n",
    "cm = confusion_matrix(y_test, y_pred)\n",
    "print(f'Confusion Matrix:\\n{cm}')\n",
    "\n",
    "# TPR and FPR\n",
    "fpr, tpr, thresholds = roc_curve(y_test, model.predict(X_test_scaled))\n",
    "roc_auc = auc(fpr, tpr)\n",
    "print(f'TPR: {tpr}')\n",
    "print(f'FPR: {fpr}')\n",
    "print(f'AUC: {roc_auc}')\n",
    "\n",
    "# Classification Report (includes precision, recall, F1, and support)\n",
    "class_report = classification_report(y_test, y_pred)\n",
    "print(f'Classification Report:\\n{class_report}')"
   ]
  }
 ],
 "metadata": {
  "kernelspec": {
   "display_name": ".venv",
   "language": "python",
   "name": "python3"
  },
  "language_info": {
   "codemirror_mode": {
    "name": "ipython",
    "version": 3
   },
   "file_extension": ".py",
   "mimetype": "text/x-python",
   "name": "python",
   "nbconvert_exporter": "python",
   "pygments_lexer": "ipython3",
   "version": "3.10.16"
  }
 },
 "nbformat": 4,
 "nbformat_minor": 2
}
